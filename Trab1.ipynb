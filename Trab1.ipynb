{
 "cells": [
  {
   "cell_type": "markdown",
   "metadata": {},
   "source": [
    "# Trabalho Prático de Teoria de Códigos 1"
   ]
  },
  {
   "cell_type": "markdown",
   "metadata": {},
   "source": [
    "### Hugo Rocha, PG52250, MMC \n",
    "### Simão Quintela, PG52257, MMC"
   ]
  },
  {
   "cell_type": "markdown",
   "metadata": {},
   "source": [
    "**Enunciado:**\n",
    "\n",
    "\n",
    "**Construa um código linear binário [7, 3, d], com d não inferior a 3.**\n",
    "**Codifique uma mensagem e cause erros que sejam corrigíveis. Usando os síndromes, corrija a mensagem.**"
   ]
  },
  {
   "cell_type": "markdown",
   "metadata": {},
   "source": [
    "##### Construção da matriz geradora do código sobre um Corpo de Galois de dimensão 2"
   ]
  },
  {
   "cell_type": "code",
   "execution_count": 26,
   "metadata": {},
   "outputs": [],
   "source": [
    "Z2 = GF(2)"
   ]
  },
  {
   "cell_type": "code",
   "execution_count": 27,
   "metadata": {},
   "outputs": [
    {
     "data": {
      "text/plain": [
       "[1 1 0 1 0 0 0]\n",
       "[0 1 1 0 1 1 0]\n",
       "[1 0 0 1 1 0 1]"
      ]
     },
     "execution_count": 27,
     "metadata": {},
     "output_type": "execute_result"
    }
   ],
   "source": [
    "G = matrix(Z2, [[1,1,0,1,0,0,0],\n",
    "                [0,1,1,0,1,1,0],\n",
    "                [1,0,0,1,1,0,1]])\n",
    "G"
   ]
  },
  {
   "cell_type": "code",
   "execution_count": 28,
   "metadata": {},
   "outputs": [
    {
     "data": {
      "text/plain": [
       "3"
      ]
     },
     "execution_count": 28,
     "metadata": {},
     "output_type": "execute_result"
    }
   ],
   "source": [
    "G.rank()"
   ]
  },
  {
   "cell_type": "markdown",
   "metadata": {},
   "source": [
    "##### Construção de um código linear com base na matriz geradora G e verificação dos parâmetros: "
   ]
  },
  {
   "cell_type": "code",
   "execution_count": 29,
   "metadata": {},
   "outputs": [],
   "source": [
    "C = LinearCode(G)"
   ]
  },
  {
   "cell_type": "code",
   "execution_count": 30,
   "metadata": {},
   "outputs": [
    {
     "data": {
      "text/plain": [
       "[7, 3] linear code over GF(2)"
      ]
     },
     "execution_count": 30,
     "metadata": {},
     "output_type": "execute_result"
    }
   ],
   "source": [
    "C"
   ]
  },
  {
   "cell_type": "code",
   "execution_count": 31,
   "metadata": {},
   "outputs": [
    {
     "data": {
      "text/plain": [
       "3"
      ]
     },
     "execution_count": 31,
     "metadata": {},
     "output_type": "execute_result"
    }
   ],
   "source": [
    "d = C.minimum_distance()\n",
    "d"
   ]
  },
  {
   "cell_type": "markdown",
   "metadata": {},
   "source": [
    "**Neste caso a distância mínima do código é 3, ou seja, é um código que deteta até 2 erros e corretor de 1 erro.**"
   ]
  },
  {
   "cell_type": "markdown",
   "metadata": {},
   "source": [
    "##### Seleção de uma mensagem que é palavra código (combinação linear das linhas de G): "
   ]
  },
  {
   "cell_type": "code",
   "execution_count": 32,
   "metadata": {},
   "outputs": [
    {
     "data": {
      "text/plain": [
       "True"
      ]
     },
     "execution_count": 32,
     "metadata": {},
     "output_type": "execute_result"
    }
   ],
   "source": [
    "mens_limpa = vector(Z2, [1,1,1,1,0,1,1])\n",
    "mens_limpa in C"
   ]
  },
  {
   "cell_type": "markdown",
   "metadata": {},
   "source": [
    "##### Introdução de um erro no segundo bit da mensagem:"
   ]
  },
  {
   "cell_type": "code",
   "execution_count": 33,
   "metadata": {},
   "outputs": [
    {
     "data": {
      "text/plain": [
       "((1, 0, 1, 1, 0, 1, 1), False)"
      ]
     },
     "execution_count": 33,
     "metadata": {},
     "output_type": "execute_result"
    }
   ],
   "source": [
    "mens_err = mens_limpa + vector([0,1,0,0,0,0,0])\n",
    "mens_err, mens_err in C"
   ]
  },
  {
   "cell_type": "markdown",
   "metadata": {},
   "source": [
    "##### Matriz de paridade H:"
   ]
  },
  {
   "cell_type": "code",
   "execution_count": 34,
   "metadata": {},
   "outputs": [
    {
     "data": {
      "text/plain": [
       "[1 0 0 1 0 0 0]\n",
       "[0 1 0 1 0 1 1]\n",
       "[0 0 1 0 0 1 0]\n",
       "[0 0 0 0 1 1 1]"
      ]
     },
     "execution_count": 34,
     "metadata": {},
     "output_type": "execute_result"
    }
   ],
   "source": [
    "H = C.parity_check_matrix()\n",
    "H"
   ]
  },
  {
   "cell_type": "markdown",
   "metadata": {},
   "source": [
    "##### Confirmação, usando a matriz de paridade, de que a mensagem original (c) é palavra código (H*c = 0):"
   ]
  },
  {
   "cell_type": "code",
   "execution_count": 35,
   "metadata": {},
   "outputs": [
    {
     "data": {
      "text/plain": [
       "[0]\n",
       "[0]\n",
       "[0]\n",
       "[0]"
      ]
     },
     "execution_count": 35,
     "metadata": {},
     "output_type": "execute_result"
    }
   ],
   "source": [
    "H*(matrix(mens_limpa).transpose()) #Hc = 0"
   ]
  },
  {
   "cell_type": "markdown",
   "metadata": {},
   "source": [
    "###### Confirmação, usando a matriz de paridade, de que a mensagem com o erro introduzido (r) não é palavra código (H*c != 0):"
   ]
  },
  {
   "cell_type": "code",
   "execution_count": 36,
   "metadata": {},
   "outputs": [
    {
     "data": {
      "text/plain": [
       "[0]\n",
       "[1]\n",
       "[0]\n",
       "[0]"
      ]
     },
     "execution_count": 36,
     "metadata": {},
     "output_type": "execute_result"
    }
   ],
   "source": [
    "sindrome = H*(matrix(mens_err).transpose()) #Hr != 0\n",
    "sindrome"
   ]
  },
  {
   "cell_type": "markdown",
   "metadata": {},
   "source": [
    "### Correção do erro usando o síndrome obtido anteriormente e matriz identidade de ordem 7:"
   ]
  },
  {
   "cell_type": "code",
   "execution_count": 37,
   "metadata": {},
   "outputs": [
    {
     "data": {
      "text/plain": [
       "[1 0 0 0 0 0 0]\n",
       "[0 1 0 0 0 0 0]\n",
       "[0 0 1 0 0 0 0]\n",
       "[0 0 0 1 0 0 0]\n",
       "[0 0 0 0 1 0 0]\n",
       "[0 0 0 0 0 1 0]\n",
       "[0 0 0 0 0 0 1]"
      ]
     },
     "execution_count": 37,
     "metadata": {},
     "output_type": "execute_result"
    }
   ],
   "source": [
    "I7 = identity_matrix(7)\n",
    "I7"
   ]
  },
  {
   "cell_type": "markdown",
   "metadata": {},
   "source": [
    "##### Ciclo que multiplica a matriz de paridade H pelas diversas coluna de I7. O objetivo é obter o síndrome e saber qual o bit que está errado:"
   ]
  },
  {
   "cell_type": "code",
   "execution_count": 38,
   "metadata": {},
   "outputs": [
    {
     "data": {
      "text/plain": [
       "[(\n",
       "[1]         \n",
       "[0]         \n",
       "[0]         \n",
       "[0], 'Bit 1'\n",
       "),\n",
       " (\n",
       "[0]         \n",
       "[1]         \n",
       "[0]         \n",
       "[0], 'Bit 2'\n",
       "),\n",
       " (\n",
       "[0]         \n",
       "[0]         \n",
       "[1]         \n",
       "[0], 'Bit 3'\n",
       "),\n",
       " (\n",
       "[1]         \n",
       "[1]         \n",
       "[0]         \n",
       "[0], 'Bit 4'\n",
       "),\n",
       " (\n",
       "[0]         \n",
       "[0]         \n",
       "[0]         \n",
       "[1], 'Bit 5'\n",
       "),\n",
       " (\n",
       "[0]         \n",
       "[1]         \n",
       "[1]         \n",
       "[1], 'Bit 6'\n",
       "),\n",
       " (\n",
       "[0]         \n",
       "[1]         \n",
       "[0]         \n",
       "[1], 'Bit 7'\n",
       ")]"
      ]
     },
     "execution_count": 38,
     "metadata": {},
     "output_type": "execute_result"
    }
   ],
   "source": [
    "[(H*matrix(col).transpose(), f\"Bit {i+1}\") for i,col in enumerate(I7.columns())]"
   ]
  },
  {
   "cell_type": "markdown",
   "metadata": {},
   "source": [
    "**Podemos observar que é segundo bit que está errado como era esperado, visto que a segunda coluna da matriz de paridade H (ou resultado da multiplicação da matriz de paridade H pela segunda coluna da matriz identidade) deu o resultado do síndrome (H*mensagem_errada)**"
   ]
  },
  {
   "cell_type": "code",
   "execution_count": 39,
   "metadata": {},
   "outputs": [
    {
     "data": {
      "text/plain": [
       "(1, 0, 1, 1, 0, 1, 1)"
      ]
     },
     "execution_count": 39,
     "metadata": {},
     "output_type": "execute_result"
    }
   ],
   "source": [
    "mens_err"
   ]
  },
  {
   "cell_type": "markdown",
   "metadata": {},
   "source": [
    "##### Correção do erro somando à mensagem errada o vetor e2 composto por zeros, com um 1 apenas na segunda posição."
   ]
  },
  {
   "cell_type": "code",
   "execution_count": 40,
   "metadata": {},
   "outputs": [],
   "source": [
    "mens_corrigida = mens_err + vector([0,1,0,0,0,0,0])"
   ]
  },
  {
   "cell_type": "markdown",
   "metadata": {},
   "source": [
    "##### Confirmação de que a mensagem corrigida é palavra código e que é igual à mensagem original:"
   ]
  },
  {
   "cell_type": "code",
   "execution_count": 41,
   "metadata": {},
   "outputs": [
    {
     "data": {
      "text/plain": [
       "((1, 1, 1, 1, 0, 1, 1), True, True)"
      ]
     },
     "execution_count": 41,
     "metadata": {},
     "output_type": "execute_result"
    }
   ],
   "source": [
    "mens_corrigida, mens_corrigida in C, mens_corrigida == mens_limpa"
   ]
  },
  {
   "cell_type": "markdown",
   "metadata": {},
   "source": [
    "### No mesmo código e com a mesma mensagem original vamos agora repetir o processo mas colocar um erro numa outra posição, neste caso na última."
   ]
  },
  {
   "cell_type": "code",
   "execution_count": 42,
   "metadata": {},
   "outputs": [
    {
     "data": {
      "text/plain": [
       "(1, 1, 1, 1, 0, 1, 0)"
      ]
     },
     "execution_count": 42,
     "metadata": {},
     "output_type": "execute_result"
    }
   ],
   "source": [
    "mens_err_2 = mens_limpa + vector([0,0,0,0,0,0,1])\n",
    "mens_err_2"
   ]
  },
  {
   "cell_type": "code",
   "execution_count": 43,
   "metadata": {},
   "outputs": [
    {
     "data": {
      "text/plain": [
       "False"
      ]
     },
     "execution_count": 43,
     "metadata": {},
     "output_type": "execute_result"
    }
   ],
   "source": [
    "mens_err_2 in C"
   ]
  },
  {
   "cell_type": "code",
   "execution_count": 44,
   "metadata": {},
   "outputs": [
    {
     "data": {
      "text/plain": [
       "[0]\n",
       "[1]\n",
       "[0]\n",
       "[1]"
      ]
     },
     "execution_count": 44,
     "metadata": {},
     "output_type": "execute_result"
    }
   ],
   "source": [
    "sindrome_2 = H*(matrix(mens_err_2).transpose())\n",
    "sindrome_2"
   ]
  },
  {
   "cell_type": "code",
   "execution_count": 45,
   "metadata": {},
   "outputs": [
    {
     "data": {
      "text/plain": [
       "[1 0 0 1 0 0 0]\n",
       "[0 1 0 1 0 1 1]\n",
       "[0 0 1 0 0 1 0]\n",
       "[0 0 0 0 1 1 1]"
      ]
     },
     "execution_count": 45,
     "metadata": {},
     "output_type": "execute_result"
    }
   ],
   "source": [
    "H"
   ]
  },
  {
   "cell_type": "code",
   "execution_count": 46,
   "metadata": {},
   "outputs": [
    {
     "data": {
      "text/plain": [
       "[(\n",
       "[1]         \n",
       "[0]         \n",
       "[0]         \n",
       "[0], 'Bit 1'\n",
       "),\n",
       " (\n",
       "[0]         \n",
       "[1]         \n",
       "[0]         \n",
       "[0], 'Bit 2'\n",
       "),\n",
       " (\n",
       "[0]         \n",
       "[0]         \n",
       "[1]         \n",
       "[0], 'Bit 3'\n",
       "),\n",
       " (\n",
       "[1]         \n",
       "[1]         \n",
       "[0]         \n",
       "[0], 'Bit 4'\n",
       "),\n",
       " (\n",
       "[0]         \n",
       "[0]         \n",
       "[0]         \n",
       "[1], 'Bit 5'\n",
       "),\n",
       " (\n",
       "[0]         \n",
       "[1]         \n",
       "[1]         \n",
       "[1], 'Bit 6'\n",
       "),\n",
       " (\n",
       "[0]         \n",
       "[1]         \n",
       "[0]         \n",
       "[1], 'Bit 7'\n",
       ")]"
      ]
     },
     "execution_count": 46,
     "metadata": {},
     "output_type": "execute_result"
    }
   ],
   "source": [
    "[(H*matrix(col).transpose(), f\"Bit {i+1}\") for i,col in enumerate(I7.columns())]"
   ]
  },
  {
   "cell_type": "markdown",
   "metadata": {},
   "source": [
    "**Podemos ver que, desta vez, a última coluna de H é que iguala o novo síndrome. Assim, o último bit deve ser o bit a ser corrigido.**"
   ]
  },
  {
   "cell_type": "code",
   "execution_count": 47,
   "metadata": {},
   "outputs": [
    {
     "data": {
      "text/plain": [
       "(1, 1, 1, 1, 0, 1, 1)"
      ]
     },
     "execution_count": 47,
     "metadata": {},
     "output_type": "execute_result"
    }
   ],
   "source": [
    "mens_corr_2 = mens_err_2 + vector([0,0,0,0,0,0,1])\n",
    "mens_corr_2"
   ]
  },
  {
   "cell_type": "code",
   "execution_count": 48,
   "metadata": {},
   "outputs": [
    {
     "data": {
      "text/plain": [
       "(True, True)"
      ]
     },
     "execution_count": 48,
     "metadata": {},
     "output_type": "execute_result"
    }
   ],
   "source": [
    "mens_corr_2 in C, mens_corr_2 == mens_limpa"
   ]
  }
 ],
 "metadata": {
  "kernelspec": {
   "display_name": "SageMath 9.3",
   "language": "sage",
   "name": "sagemath"
  },
  "language_info": {
   "codemirror_mode": {
    "name": "ipython",
    "version": 3
   },
   "file_extension": ".py",
   "mimetype": "text/x-python",
   "name": "python",
   "nbconvert_exporter": "python",
   "pygments_lexer": "ipython3",
   "version": "3.7.10"
  }
 },
 "nbformat": 4,
 "nbformat_minor": 4
}
