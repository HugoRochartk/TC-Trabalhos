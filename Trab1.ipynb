{
 "cells": [
  {
   "cell_type": "code",
   "execution_count": 2,
   "metadata": {},
   "outputs": [],
   "source": [
    "Z2 = GF(2)"
   ]
  },
  {
   "cell_type": "code",
   "execution_count": 3,
   "metadata": {},
   "outputs": [
    {
     "data": {
      "text/plain": [
       "[1 1 0 1 0 0 0]\n",
       "[0 1 1 0 1 1 0]\n",
       "[1 0 0 1 1 0 1]"
      ]
     },
     "execution_count": 3,
     "metadata": {},
     "output_type": "execute_result"
    }
   ],
   "source": [
    "G = matrix(Z2, [[1,1,0,1,0,0,0],\n",
    "                [0,1,1,0,1,1,0],\n",
    "                [1,0,0,1,1,0,1]])\n",
    "G"
   ]
  },
  {
   "cell_type": "code",
   "execution_count": 4,
   "metadata": {},
   "outputs": [
    {
     "data": {
      "text/plain": [
       "3"
      ]
     },
     "execution_count": 4,
     "metadata": {},
     "output_type": "execute_result"
    }
   ],
   "source": [
    "G.rank()"
   ]
  },
  {
   "cell_type": "code",
   "execution_count": 5,
   "metadata": {},
   "outputs": [],
   "source": [
    "C = LinearCode(G)"
   ]
  },
  {
   "cell_type": "code",
   "execution_count": 6,
   "metadata": {},
   "outputs": [
    {
     "data": {
      "text/plain": [
       "[7, 3] linear code over GF(2)"
      ]
     },
     "execution_count": 6,
     "metadata": {},
     "output_type": "execute_result"
    }
   ],
   "source": [
    "C"
   ]
  },
  {
   "cell_type": "code",
   "execution_count": 7,
   "metadata": {},
   "outputs": [
    {
     "data": {
      "text/plain": [
       "3"
      ]
     },
     "execution_count": 7,
     "metadata": {},
     "output_type": "execute_result"
    }
   ],
   "source": [
    "d = C.minimum_distance()\n",
    "d"
   ]
  },
  {
   "cell_type": "code",
   "execution_count": 8,
   "metadata": {},
   "outputs": [
    {
     "data": {
      "text/plain": [
       "True"
      ]
     },
     "execution_count": 8,
     "metadata": {},
     "output_type": "execute_result"
    }
   ],
   "source": [
    "mens_limpa = vector(Z2, [1,1,1,1,0,1,1])\n",
    "mens_limpa in C"
   ]
  },
  {
   "cell_type": "code",
   "execution_count": 9,
   "metadata": {},
   "outputs": [
    {
     "data": {
      "text/plain": [
       "((1, 0, 1, 1, 0, 1, 1), False)"
      ]
     },
     "execution_count": 9,
     "metadata": {},
     "output_type": "execute_result"
    }
   ],
   "source": [
    "mens_err = mens_limpa + vector([0,1,0,0,0,0,0]) + \n",
    "mens_err, mens_err in C"
   ]
  },
  {
   "cell_type": "raw",
   "metadata": {},
   "source": [
    "H = C.parity_check_matrix()\n",
    "H"
   ]
  },
  {
   "cell_type": "code",
   "execution_count": 17,
   "metadata": {},
   "outputs": [
    {
     "data": {
      "text/plain": [
       "[0]\n",
       "[0]\n",
       "[0]\n",
       "[0]"
      ]
     },
     "execution_count": 17,
     "metadata": {},
     "output_type": "execute_result"
    }
   ],
   "source": [
    "H*(matrix(mens_limpa).transpose()) #Hc = 0\n"
   ]
  },
  {
   "cell_type": "code",
   "execution_count": 20,
   "metadata": {},
   "outputs": [
    {
     "data": {
      "text/plain": [
       "[0]\n",
       "[1]\n",
       "[0]\n",
       "[0]"
      ]
     },
     "execution_count": 20,
     "metadata": {},
     "output_type": "execute_result"
    }
   ],
   "source": [
    "sindrome = H*(matrix(mens_err).transpose()) #Hr != 0\n",
    "sindrome"
   ]
  },
  {
   "cell_type": "code",
   "execution_count": 21,
   "metadata": {},
   "outputs": [
    {
     "data": {
      "text/plain": [
       "[1 0 0 0 0 0 0]\n",
       "[0 1 0 0 0 0 0]\n",
       "[0 0 1 0 0 0 0]\n",
       "[0 0 0 1 0 0 0]\n",
       "[0 0 0 0 1 0 0]\n",
       "[0 0 0 0 0 1 0]\n",
       "[0 0 0 0 0 0 1]"
      ]
     },
     "execution_count": 21,
     "metadata": {},
     "output_type": "execute_result"
    }
   ],
   "source": [
    "#Correção\n",
    "I7 = identity_matrix(7)\n",
    "I7"
   ]
  },
  {
   "cell_type": "code",
   "execution_count": 38,
   "metadata": {},
   "outputs": [
    {
     "data": {
      "text/plain": [
       "[(\n",
       "[1]         \n",
       "[0]         \n",
       "[0]         \n",
       "[0], 'Bit 1'\n",
       "),\n",
       " (\n",
       "[0]         \n",
       "[1]         \n",
       "[0]         \n",
       "[0], 'Bit 2'\n",
       "),\n",
       " (\n",
       "[0]         \n",
       "[0]         \n",
       "[1]         \n",
       "[0], 'Bit 3'\n",
       "),\n",
       " (\n",
       "[1]         \n",
       "[1]         \n",
       "[0]         \n",
       "[0], 'Bit 4'\n",
       "),\n",
       " (\n",
       "[0]         \n",
       "[0]         \n",
       "[0]         \n",
       "[1], 'Bit 5'\n",
       "),\n",
       " (\n",
       "[0]         \n",
       "[1]         \n",
       "[1]         \n",
       "[1], 'Bit 6'\n",
       "),\n",
       " (\n",
       "[0]         \n",
       "[1]         \n",
       "[0]         \n",
       "[1], 'Bit 7'\n",
       ")]"
      ]
     },
     "execution_count": 38,
     "metadata": {},
     "output_type": "execute_result"
    }
   ],
   "source": [
    "[(H*matrix(col).transpose(), f\"Bit {i+1}\") for i,col in enumerate(I7.columns())]"
   ]
  },
  {
   "cell_type": "markdown",
   "metadata": {},
   "source": [
    "**Podemos observar que é segundo bit que está errado como era esperado, visto que o resultado da multiplicação da matriz de paridade H pela segunda coluna da matriz identidade deu o resultado do síndrome (H*mensagem_errada)**"
   ]
  },
  {
   "cell_type": "code",
   "execution_count": 39,
   "metadata": {},
   "outputs": [
    {
     "data": {
      "text/plain": [
       "(1, 0, 1, 1, 0, 1, 1)"
      ]
     },
     "execution_count": 39,
     "metadata": {},
     "output_type": "execute_result"
    }
   ],
   "source": [
    "mens_err"
   ]
  },
  {
   "cell_type": "code",
   "execution_count": 42,
   "metadata": {},
   "outputs": [
    {
     "data": {
      "text/plain": [
       "((1, 1, 1, 1, 0, 1, 1), True, True)"
      ]
     },
     "execution_count": 42,
     "metadata": {},
     "output_type": "execute_result"
    }
   ],
   "source": [
    "mens_corrigida = mens_err + vector([0,1,0,0,0,0,0])\n",
    "mens_corrigida, mens_corrigida in C, mens_corrigida == mens_limpa"
   ]
  }
 ],
 "metadata": {
  "kernelspec": {
   "display_name": "SageMath 9.3",
   "language": "sage",
   "name": "sagemath"
  },
  "language_info": {
   "codemirror_mode": {
    "name": "ipython",
    "version": 3
   },
   "file_extension": ".py",
   "mimetype": "text/x-python",
   "name": "python",
   "nbconvert_exporter": "python",
   "pygments_lexer": "ipython3",
   "version": "3.7.10"
  }
 },
 "nbformat": 4,
 "nbformat_minor": 4
}
