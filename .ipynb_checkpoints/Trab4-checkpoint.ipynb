{
 "cells": [
  {
   "cell_type": "markdown",
   "id": "ba5f5754-86e2-4e89-846a-3d91bf597bc2",
   "metadata": {},
   "source": [
    "## Trabalho Prático de Teoria de Códigos 4\n",
    "#### Hugo Rocha, PG52250, MMC\n",
    "#### Simão Quintela, PG52257, MMC"
   ]
  },
  {
   "cell_type": "markdown",
   "id": "9a0a1664-d5e4-4bb5-ac3f-62d460498037",
   "metadata": {},
   "source": [
    "**Enunciado:**\n",
    "**Considere o polinómio p(x)=x^4+x+1 e C um código RS(15, 3)  \n",
    "Corrija uma mensagem escolhida por si, e que tenha 3 erros, usando o algoritmo de Sugiyama.**"
   ]
  },
  {
   "cell_type": "markdown",
   "id": "f69ecbcc-b84b-412c-bcdd-8167195131dc",
   "metadata": {},
   "source": [
    "#### Construção de um código Reed-Solomon\n",
    "Os códigos Reed-Solomon têm uma caraterística interessante que é o facto dos coeficientes dos polinómios que consideramos serem também polinómios que podem não ser binários. Para criar uma estrutura assim olhemos ao código abaixo."
   ]
  },
  {
   "cell_type": "code",
   "execution_count": 71,
   "id": "206a92c9-c4f4-44ff-ae3d-d266eb705100",
   "metadata": {},
   "outputs": [
    {
     "data": {
      "text/plain": [
       "Univariate Polynomial Ring in xx over Univariate Quotient Polynomial Ring in a over Finite Field of size 2 with modulus x^4 + x + 1"
      ]
     },
     "execution_count": 71,
     "metadata": {},
     "output_type": "execute_result"
    }
   ],
   "source": [
    "PolZ2 = PolynomialRing(GF(2), 'x')\n",
    "pol = PolZ2(x^4+x+1)\n",
    "F = PolynomialQuotientRing(PolZ2, pol, 'a')\n",
    "PolF.<xx> = PolynomialRing(F)\n",
    "PolF"
   ]
  },
  {
   "cell_type": "markdown",
   "id": "9a205574-d79e-4c84-8607-af1abed3c165",
   "metadata": {},
   "source": [
    "#### Calcular o polinómio gerador \n",
    "O polinómio gerador é o produto dos polinómios mínimos anuladores das primeiras **s** potências de α:\n",
    "g(x) = (x − α)(x − α2) · · · (x − αs)."
   ]
  },
  {
   "cell_type": "code",
   "execution_count": 72,
   "id": "515d07ea-a9ee-4e30-a39c-851e02117208",
   "metadata": {},
   "outputs": [
    {
     "data": {
      "text/plain": [
       "xx^6 + (a^2 + a + 1)*xx^5 + (a^3 + 1)*xx^4 + (a + 1)*xx^3 + (a^3 + a^2)*xx^2 + (a^3 + a)*xx + a^3 + a^2"
      ]
     },
     "execution_count": 72,
     "metadata": {},
     "output_type": "execute_result"
    }
   ],
   "source": [
    "a = F(x)\n",
    "L = [PolF(xx-a^i) for i in range(1, 7)]\n",
    "g = lcm(L)\n",
    "g"
   ]
  },
  {
   "cell_type": "markdown",
   "id": "2a92380a-a134-421b-b03b-3516f851547f",
   "metadata": {},
   "source": [
    "#### Criar uma palavra código\n",
    "Para criar uma palavra código basta pegar num polinómio $ h \\in F $, garantindo que h é primitivo e multiplicar pelo polinómio gerador"
   ]
  },
  {
   "cell_type": "code",
   "execution_count": 73,
   "id": "2d449af0-530b-4ff0-ba9f-47ccc7dc7383",
   "metadata": {},
   "outputs": [
    {
     "name": "stdout",
     "output_type": "stream",
     "text": [
      "O polinómio é primitivo: True\n"
     ]
    },
    {
     "data": {
      "text/plain": [
       "(a^2 + a)*xx^13 + xx^12 + (a + 1)*xx^11 + (a^3 + a^2 + 1)*xx^10 + (a^3 + a^2 + a + 1)*xx^9 + (a^2 + 1)*xx^8 + (a^3 + a^2 + 1)*xx^7 + (a^3 + a^2 + a)*xx^6 + (a^3 + 1)*xx^5 + (a^3 + a)*xx^4 + (a^3 + a^2 + 1)*xx^3 + (a^3 + 1)*xx^2 + a^2*xx + a^3 + 1"
      ]
     },
     "execution_count": 73,
     "metadata": {},
     "output_type": "execute_result"
    }
   ],
   "source": [
    "h = PolF( (a^2 + a)*xx^7 + (a^2 + a + 1)*xx^4 + (a^2 + a + 1)*xx^3 + a^2 +1 )\n",
    "print(\"O polinómio é primitivo:\", h.is_irreducible())\n",
    "c = h*g\n",
    "c"
   ]
  },
  {
   "cell_type": "markdown",
   "id": "16dc6abd-ceae-493a-a2b4-c780c131758d",
   "metadata": {},
   "source": [
    "#### Verificar se uma palavra é palavra código\n",
    "Para verficar se uma palavra é palavra código basta calcular os seus síndromes. Caso seja, os síndromes serão iguais a 0."
   ]
  },
  {
   "cell_type": "code",
   "execution_count": 74,
   "id": "29cd8f1f-1e5c-46ab-8d15-cbb07823d01c",
   "metadata": {},
   "outputs": [
    {
     "data": {
      "text/plain": [
       "[0, 0, 0, 0, 0, 0]"
      ]
     },
     "execution_count": 74,
     "metadata": {},
     "output_type": "execute_result"
    }
   ],
   "source": [
    "sind = [c(a^i) for i in range(1,7)]\n",
    "sind"
   ]
  },
  {
   "cell_type": "markdown",
   "id": "1b5ba788-2f65-45d2-977b-ca13bf1ec490",
   "metadata": {},
   "source": [
    "#### Introduzir erros nos posições 13, 7 e 4\n",
    "Para Introduzir erros basta criar um polinómio em que os graus de x são as posições de erro. Neste caso quisemos adicionar nas posições 13, 7 e 4.\n",
    "\n",
    "**Nota: os polinómios associados aos diferentes graus de x não são definitivos, poderíamos incutir um erro nas mesmas posições usando polinómios diferentes nos coeficientes.**"
   ]
  },
  {
   "cell_type": "code",
   "execution_count": 75,
   "id": "18273d11-3c52-46ee-b485-bdbc0ea54532",
   "metadata": {},
   "outputs": [
    {
     "data": {
      "text/plain": [
       "(a + 1)*xx^13 + xx^12 + (a + 1)*xx^11 + (a^3 + a^2 + 1)*xx^10 + (a^3 + a^2 + a + 1)*xx^9 + (a^2 + 1)*xx^8 + (a^3 + a)*xx^7 + (a^3 + a^2 + a)*xx^6 + (a^3 + 1)*xx^5 + (a^3 + 1)*xx^4 + (a^3 + a^2 + 1)*xx^3 + (a^3 + 1)*xx^2 + a^2*xx + a^3 + 1"
      ]
     },
     "execution_count": 75,
     "metadata": {},
     "output_type": "execute_result"
    }
   ],
   "source": [
    "e = PolF( (a^2+1)*xx^13 + (a^2+ a +1)*xx^7 + (a + 1)*xx^4)\n",
    "r = c+e\n",
    "r"
   ]
  },
  {
   "cell_type": "markdown",
   "id": "1e0fd015-f86b-4976-a0d0-d8701d79546f",
   "metadata": {},
   "source": [
    "### Correção do erro usando o algoritmo de Sugiyama"
   ]
  },
  {
   "cell_type": "code",
   "execution_count": 76,
   "id": "86d06107-0403-4789-95ca-a9be146e88b2",
   "metadata": {},
   "outputs": [
    {
     "name": "stdout",
     "output_type": "stream",
     "text": [
      "\n",
      "Q3: (a^3 + a^2)*xx + a^2 + 1\n",
      "R3 (a^2 + a + 1)*xx^2 + (a^2 + a + 1)*xx + a^3 + 1\n",
      "[13, 7, 4]\n"
     ]
    },
    {
     "data": {
      "text/plain": [
       "True"
      ]
     },
     "execution_count": 76,
     "metadata": {},
     "output_type": "execute_result"
    }
   ],
   "source": [
    "# Primeiro calculamos os síndromes\n",
    "sind = [r(a^i) for i in range(1, 7)]\n",
    "\n",
    "S = PolF(sind)\n",
    "S\n",
    "\n",
    "# Aplicar o algoritmo de Euclides\n",
    "Q1 = PolF(xx^6) // S\n",
    "R1 = PolF(xx^6) % S\n",
    "\n",
    "Q2 = S // R1\n",
    "R2 = S % R1\n",
    "\n",
    "Q3 = R1 // R2\n",
    "R3 = R1 % R2\n",
    "\n",
    "print(\"\\nQ3:\", Q3)\n",
    "print(\"R3\", R3)\n",
    "\n",
    "V = Q1 * (1-Q3*Q2) + Q3\n",
    "Vder = V.differentiate()\n",
    "\n",
    "# Calcular as raízes de V\n",
    "Vraiz = [V.roots()[i][0] for i in range(0, 3)]\n",
    "Vraiz\n",
    "\n",
    "pos = [15- discrete_log(Vraiz[i], PolF(a), 15) for i in range(0,3)]\n",
    "print(pos)\n",
    "\n",
    "# Vamos calcular os polinómios associados às posições de erro\n",
    "e13 = R3(a^2) / Vder(a^2)\n",
    "e7 = R3(a^8) / Vder(a^8)\n",
    "e4 = R3(a^11) / Vder(a^11)\n",
    "\n",
    "err = e13*xx^13 + e7*xx^7 + e4*xx^4\n",
    "\n",
    "mens_corr = r - err\n",
    "mens_corr == c"
   ]
  }
 ],
 "metadata": {
  "kernelspec": {
   "display_name": "SageMath 10.1",
   "language": "sage",
   "name": "sagemath"
  },
  "language_info": {
   "codemirror_mode": {
    "name": "ipython",
    "version": 3
   },
   "file_extension": ".py",
   "mimetype": "text/x-python",
   "name": "python",
   "nbconvert_exporter": "python",
   "pygments_lexer": "ipython3",
   "version": "3.11.5"
  }
 },
 "nbformat": 4,
 "nbformat_minor": 5
}
