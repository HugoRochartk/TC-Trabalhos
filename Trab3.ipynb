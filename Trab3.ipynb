{
 "cells": [
  {
   "cell_type": "markdown",
   "id": "92df2d54-0192-4263-877a-5ca7f6b1ae21",
   "metadata": {},
   "source": [
    "## Trabalho Prático de Teoria de Códigos 3\n",
    "#### Hugo Rocha, PG52250, MMC\n",
    "#### Simão Quintela, PG52257, MMC\n",
    "\n",
    "**Enunciado:\n",
    "Considere o polinómio p(x)=x^5+x^2+1. Verifique que é primitivo.  \n",
    "Construa o código BCH usando p(x) e à custa das 6 primeiras potências de a, da forma usual.  \n",
    "Corrija uma mensagem escolhida por si, e que tenha 2 erros, usando o algoritmo de Petersen-Gorenstein-Zierler.**"
   ]
  },
  {
   "cell_type": "markdown",
   "id": "8993fb3e-905d-49bf-8fa9-8d60440f1b12",
   "metadata": {},
   "source": [
    "#### Construção de um código BCH\n",
    "Os códigos BCH são baseados em polinómios cujos coeficientes são binários. Para criar uma estrutura assim olhemos ao código abaixo."
   ]
  },
  {
   "cell_type": "code",
   "execution_count": 29,
   "id": "55fc9785-6977-44bd-bd36-4660d4948666",
   "metadata": {},
   "outputs": [],
   "source": [
    "R.<x> = PolynomialRing(GF(2))\n",
    "pol = R(x^5+x^2+1)\n",
    "F = R.quotient(pol, 'a')"
   ]
  },
  {
   "cell_type": "markdown",
   "id": "98379e05-744e-4349-9cf9-902ee45ebc6c",
   "metadata": {},
   "source": [
    "#### Calcular o polinómio gerador\n",
    "\n",
    "O polinómio gerador é o mínimo múltiplo comum dos polinómios mínimos das primeiras s potências de α."
   ]
  },
  {
   "cell_type": "code",
   "execution_count": 30,
   "id": "87c91af4-f69b-4e75-b81b-b24cda0e790e",
   "metadata": {},
   "outputs": [],
   "source": [
    "alfa = F(x)\n",
    "potencias = [alfa^i for i in range(1,7)]\n",
    "L = [pot.minpoly() for pot in potencias]\n",
    "g = lcm(L)"
   ]
  },
  {
   "cell_type": "code",
   "execution_count": 31,
   "id": "6d60ec1a-446f-431c-8187-a907c3057d93",
   "metadata": {},
   "outputs": [
    {
     "name": "stdout",
     "output_type": "stream",
     "text": [
      "[31, 16] Cyclic Code over GF(2)\n"
     ]
    },
    {
     "data": {
      "text/plain": [
       "7"
      ]
     },
     "execution_count": 31,
     "metadata": {},
     "output_type": "execute_result"
    }
   ],
   "source": [
    "# Construção do código\n",
    "n = pol.degree()\n",
    "m = 2^n -1\n",
    "C = codes.CyclicCode(g, m)\n",
    "\n",
    "print(C)\n",
    "C.minimum_distance()\n",
    "# Código com distância mínima 7, logo é corretor de 3 erros"
   ]
  },
  {
   "cell_type": "markdown",
   "id": "b895c961-c92a-452e-9b8c-0a729a8d3d44",
   "metadata": {},
   "source": [
    "#### Criação de palavra código \n",
    "Para criar uma palavra código basta pegar num polinómio $ h \\in F $, garantindo que h é primitivo e multiplicar pelo polinómio gerador"
   ]
  },
  {
   "cell_type": "code",
   "execution_count": 32,
   "id": "935a27ab-9214-4790-b410-c62d23c40aeb",
   "metadata": {},
   "outputs": [
    {
     "name": "stdout",
     "output_type": "stream",
     "text": [
      "h primitivo: True\n"
     ]
    }
   ],
   "source": [
    "h = R(x^12 + x^11 + x^7 + x^6 + x^3 + x + 1)\n",
    "print(\"h primitivo:\", h.is_irreducible())\n",
    "c = h*g\n",
    "e = R(x^6 + x^2)\n",
    "r = c + e"
   ]
  },
  {
   "cell_type": "markdown",
   "id": "b35550aa-8352-4955-9837-ab916270942b",
   "metadata": {},
   "source": [
    "#### Vamos verificar se r é palavra código (não é)\n",
    "Para c ser palavra código, o array resultante tem de estar cheio de 0's"
   ]
  },
  {
   "cell_type": "code",
   "execution_count": 33,
   "id": "458afd0f-3881-4289-bc1f-7887c3bda8ba",
   "metadata": {},
   "outputs": [
    {
     "data": {
      "text/plain": [
       "[a^3 + a^2 + a, a^4 + a^3 + a^2 + a, a^3 + 1, a^4 + a + 1, a + 1, a^3 + a + 1]"
      ]
     },
     "execution_count": 33,
     "metadata": {},
     "output_type": "execute_result"
    }
   ],
   "source": [
    "sind = [r(alfa^i) for i in range(1,7)]\n",
    "sind"
   ]
  },
  {
   "cell_type": "markdown",
   "id": "6a3e7bc2-853f-4a1b-be40-719fa30ed10f",
   "metadata": {},
   "source": [
    "#### Vamos construir a matriz com os síndromes"
   ]
  },
  {
   "cell_type": "code",
   "execution_count": 34,
   "id": "2c4fccc0-c35e-48ad-a372-1cd2d7b55941",
   "metadata": {},
   "outputs": [
    {
     "data": {
      "text/plain": [
       "[      a^3 + a^2 + a a^4 + a^3 + a^2 + a             a^3 + 1]\n",
       "[a^4 + a^3 + a^2 + a             a^3 + 1         a^4 + a + 1]\n",
       "[            a^3 + 1         a^4 + a + 1               a + 1]"
      ]
     },
     "execution_count": 34,
     "metadata": {},
     "output_type": "execute_result"
    }
   ],
   "source": [
    "M = matrix(F, [sind[0:3], sind[1:4], sind[2:5]])\n",
    "M"
   ]
  },
  {
   "cell_type": "code",
   "execution_count": 35,
   "id": "e0111391-c4cb-4716-ad1b-4ae71f18a75a",
   "metadata": {},
   "outputs": [
    {
     "data": {
      "text/plain": [
       "0"
      ]
     },
     "execution_count": 35,
     "metadata": {},
     "output_type": "execute_result"
    }
   ],
   "source": [
    "det(M)"
   ]
  },
  {
   "cell_type": "markdown",
   "id": "120137cd-f0b8-46d4-8d60-c414be299f77",
   "metadata": {},
   "source": [
    "#### Como det(M) $\\neq 0$ temos de retirar uma dimensão à matriz"
   ]
  },
  {
   "cell_type": "code",
   "execution_count": 36,
   "id": "291e4291-d374-4b0f-94a8-e6158cd7b823",
   "metadata": {},
   "outputs": [
    {
     "data": {
      "text/plain": [
       "[      a^3 + a^2 + a a^4 + a^3 + a^2 + a]\n",
       "[a^4 + a^3 + a^2 + a             a^3 + 1]"
      ]
     },
     "execution_count": 36,
     "metadata": {},
     "output_type": "execute_result"
    }
   ],
   "source": [
    "M = matrix(F, [sind[0:2], sind[1:3]])\n",
    "M"
   ]
  },
  {
   "cell_type": "markdown",
   "id": "ad37112a-c1ab-4508-8769-d2f98c3c05d8",
   "metadata": {},
   "source": [
    "Vamos agora resolver o sistema Mx = b, com b = (s3, s4)"
   ]
  },
  {
   "cell_type": "code",
   "execution_count": 37,
   "id": "4b964e7e-3532-4f7b-9110-a41d6d75d414",
   "metadata": {},
   "outputs": [
    {
     "name": "stdout",
     "output_type": "stream",
     "text": [
      "[a^3 + a^2 + 1]\n",
      "[a^3 + a^2 + a]\n",
      "a^3 + a^2 + 1 a^3 + a^2 + a\n"
     ]
    }
   ],
   "source": [
    "b = matrix(F, sind[2:4]).transpose()\n",
    "solucao = M\\b\n",
    "print(solucao)\n",
    "\n",
    "sig2, sig1 = solucao\n",
    "s2,s1 = sig2[0], sig1[0]\n",
    "print(s2,s1)"
   ]
  },
  {
   "cell_type": "markdown",
   "id": "7de3f67d-dc2c-4c8b-8f9f-e9d37ea5d22b",
   "metadata": {},
   "source": [
    "#### Criação de nova estrutura para detetar os erros"
   ]
  },
  {
   "cell_type": "code",
   "execution_count": 38,
   "id": "95f65310-b699-45e6-b6b5-8bc127de00cf",
   "metadata": {},
   "outputs": [
    {
     "data": {
      "text/plain": [
       "[a^2, a^3 + a]"
      ]
     },
     "execution_count": 38,
     "metadata": {},
     "output_type": "execute_result"
    }
   ],
   "source": [
    "PolF.<z> =PolynomialRing(F)\n",
    "ELP = PolF(z^2+s1 * z+s2)\n",
    "lista_erros = ELP.roots()\n",
    "erros = [lista_erros[i][0] for i in range(0, len(lista_erros))]\n",
    "erros"
   ]
  },
  {
   "cell_type": "markdown",
   "id": "6a330572-e4ae-4047-be62-62fc8135364d",
   "metadata": {},
   "source": [
    "#### Pesquisar as posições dos erros\n",
    "Como no BCH os coeficientes são binários, encontrar a posição do erro é equivalente a encontrar o erro"
   ]
  },
  {
   "cell_type": "code",
   "execution_count": 39,
   "id": "092735ca-8abd-423c-8d1a-7bab0c9b6023",
   "metadata": {},
   "outputs": [
    {
     "data": {
      "text/plain": [
       "(2, 6)"
      ]
     },
     "execution_count": 39,
     "metadata": {},
     "output_type": "execute_result"
    }
   ],
   "source": [
    "beta = alfa^0\n",
    "m1 = 0\n",
    "while beta != erros[0]:\n",
    "    beta = beta*alfa\n",
    "    m1=m1+1\n",
    "\n",
    "beta =alfa^0\n",
    "m2 = 0\n",
    "while beta != erros[1]:\n",
    "    beta = beta*alfa\n",
    "    m2=m2+1\n",
    "m1, m2"
   ]
  },
  {
   "cell_type": "markdown",
   "id": "01409741-0041-448b-a5eb-455409c026b2",
   "metadata": {},
   "source": [
    "#### Verificar se o erro foi corrigido"
   ]
  },
  {
   "cell_type": "code",
   "execution_count": 40,
   "id": "b6eb3d4f-5a85-40bb-8fef-98277968c6d6",
   "metadata": {},
   "outputs": [
    {
     "data": {
      "text/plain": [
       "[0, 0, 0, 0, 0, 0]"
      ]
     },
     "execution_count": 40,
     "metadata": {},
     "output_type": "execute_result"
    }
   ],
   "source": [
    "e = R(x^6 + x^2)\n",
    "c = r+e\n",
    "\n",
    "[c(alfa^i) for i in range(1,7)]"
   ]
  }
 ],
 "metadata": {
  "kernelspec": {
   "display_name": "SageMath 10.1",
   "language": "sage",
   "name": "sagemath"
  },
  "language_info": {
   "codemirror_mode": {
    "name": "ipython",
    "version": 3
   },
   "file_extension": ".py",
   "mimetype": "text/x-python",
   "name": "python",
   "nbconvert_exporter": "python",
   "pygments_lexer": "ipython3",
   "version": "3.11.5"
  }
 },
 "nbformat": 4,
 "nbformat_minor": 5
}
